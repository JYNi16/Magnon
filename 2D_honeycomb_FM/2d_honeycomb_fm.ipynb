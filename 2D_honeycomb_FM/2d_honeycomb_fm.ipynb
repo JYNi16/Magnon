{
 "cells": [
  {
   "cell_type": "markdown",
   "id": "c13b6741",
   "metadata": {},
   "source": [
    "Ferromagnetic Heisenberg model for honeycomb lattice.\n",
    "\\begin{equation}\n",
    "H = -J\\sum_{i,j}{S_{i}\\cdot S_{j}}\n",
    "\\end{equation}\n",
    "\n",
    "We can rewritten the above spin Hamiltonian by the follow style\n",
    "\\begin{equation}\n",
    "H = -J\\sum_{i,j}{S_{i}^{x}S_{j}^{x} + S_{i}^{y}S_{j}^{y} + S_{i}^{z}S_{j}^{z}}\\\\\n",
    "H = -J\\sum_{i,j}{S_{i}^{z}S_{j}^{z} + \\frac{1}{2}(S_{i}^{+}S_{j}^{-} + S_{i}^{-}S_{j}^{+})}\n",
    "\\end{equation}\n",
    "where\n",
    "\\begin{equation}\n",
    "S_{i}^{+} = S_{i}^{x} + iS_{i}^{y}, S_{i}^{-} = S_{i}^{x} - iS_{i}^{y}\n",
    "\\end{equation}\n",
    "\n",
    "Here, we do the spin wave by using Holstein Primako transformation, which maps spin operators for a system of spin-S moments on a lattice to bosonic creation and annihilation operators as\n",
    "\\begin{equation}\n",
    "S_{i}^{z} = S - \\hat{a}_{i}^{+}\\hat{a}_{i}= S - \\hat{n}_{i}\\\\\n",
    "S_{i}^{+} = \\sqrt{2S-\\hat{n}_{i}}\\hat{a}_{i}\\\\\n",
    "S_{i}^{-} = \\hat{a}_{i}^{+}\\sqrt{2S-\\hat{n}_{i}}\n",
    "\\end{equation}\n",
    "\n",
    "We can use binomial approximation to simplify the above formular.\n",
    "Binomial approximation is\n",
    "\\begin{equation}\n",
    "(1+x)^{\\alpha}\\approx 1 + {\\alpha}x\n",
    "\\end{equation}\n",
    "\n",
    "Therefore, \n",
    "\\begin{equation}\n",
    " \\sqrt{2S-\\hat{n}_{i}} \\approx \\sqrt{2S}{1-\\frac{\\hat{n}_{i}}{4S}} \\\\\n",
    "\\end{equation}\n",
    "\n",
    "So, we can rewrite the above spin Hamiltonian as follow\n",
    "\\begin{equation}\n",
    "H = -J\\sum_{i,j}[{S_{i}^{z}S_{j}^{z} + \\frac{1}{2}(S_{i}^{+}S_{j}^{-} + S_{i}^{-}S_{j}^{+})}] \\approx -J\\sum_{i,j}[{(S-\\hat{n}_{i})(S-\\hat{n}_{j})} + S[(1-\\frac{\\hat{n}_{i}}{4S})\\hat{a}_{i}\\hat{b}_{j}^{+}(1-\\frac{\\hat{n}_{j}}{4S}) + \\hat{a}_{i}^{+}(1-\\frac{\\hat{n}_{i}}{4S})(1-\\frac{\\hat{n}_{i}}{4S})\\hat{b}_{j}]]\\\\\n",
    "\\approx{-\\frac{NqJS^{1}}{2} + JS\\sum_{i,j}{(\\hat{a}_{i}^{+}-\\hat{b}_{j}^{+})(\\hat{a}_{i}-\\hat{b}_{j})} + H_{2} } \n",
    "\\end{equation}\n",
    "Let's rewrite the $H_{1}$ in momentum space:\n",
    "\\begin{equation}\n",
    "H_{1} = -JS\\sum_{i,j}{(\\hat{a}_{i}^{+}\\hat{b}_{j}) + (\\hat{b}_{j}^{+}\\hat{a}_{i})} + qJS\\sum_{i,j}{\\hat{n}_{i} + \\hat{n}_{j}}\\\\\n",
    "H_{1} = -\\frac{JS}{2}\\sum_{k,\\delta}{e^{ik \\cdot {\\delta}}(\\hat{a}_{k}^{+}\\hat{b}_{k})} + {e^{-ik \\cdot {\\delta}}(\\hat{b}_{k}^{+}\\hat{a}_{k})} + qJS\\sum_{k}{\\hat{a}_{k}^{+}\\hat{a}_{k} + \\hat{b}_{k}^{+}\\hat{b}_{k}}  \n",
    "\\end{equation}\n",
    "Then, we can rewrite the $H_{1}$ in pauli matrix form\n",
    "\\begin{equation}\n",
    "H_{1} = \\sum_{k}{\\phi^{*} \\cdot H(k) \\cdot\\phi}\\\\ \n",
    "\\end{equation}\n",
    "where $\\phi^{*} = (\\hat{a}_{k}^{+}, \\hat{b}_{k}^{+})$\\\\\n",
    "and $H(k)$ is\n",
    "\\begin{equation}\n",
    "qJS {\\sigma}_{z} - JS{(\\sigma_{x}+i\\sigma_{x})}\n",
    "\\end{equation}"
   ]
  },
  {
   "cell_type": "code",
   "execution_count": null,
   "id": "fa05ccdd",
   "metadata": {},
   "outputs": [],
   "source": []
  }
 ],
 "metadata": {
  "kernelspec": {
   "display_name": "Python 3 (ipykernel)",
   "language": "python",
   "name": "python3"
  },
  "language_info": {
   "codemirror_mode": {
    "name": "ipython",
    "version": 3
   },
   "file_extension": ".py",
   "mimetype": "text/x-python",
   "name": "python",
   "nbconvert_exporter": "python",
   "pygments_lexer": "ipython3",
   "version": "3.9.12"
  }
 },
 "nbformat": 4,
 "nbformat_minor": 5
}
