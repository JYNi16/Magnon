{
 "cells": [
  {
   "cell_type": "markdown",
   "id": "8f31f09d",
   "metadata": {},
   "source": [
    "Ferromagnetic Heisenberg model for honeycomb lattice.\n",
    "\\begin{equation}\n",
    "H = -J\\sum_{i,j}{S_{i}\\cdot S_{j}}\n",
    "\\end{equation}\n",
    "\n",
    "We can rewritten the above spin Hamiltonian by the follow style\n",
    "\\begin{equation}\n",
    "H = -J\\sum_{i,j}{S_{i}^{x}S_{j}^{x} + S_{i}^{y}S_{j}^{y} + S_{i}^{z}S_{j}^{z}}\\\\\n",
    "H = -J\\sum_{i,j}{S_{i}^{z}S_{j}^{z} + \\frac{1}{2}(S_{i}^{+}S_{j}^{-} + S_{i}^{-}S_{j}^{+})}\n",
    "\\end{equation}\n",
    "where\n",
    "\\begin{equation}\n",
    "S_{i}^{+} = S_{i}^{x} + iS_{i}^{y}, S_{i}^{-} = S_{i}^{x} - iS_{i}^{y}\n",
    "\\end{equation}\n",
    "\n",
    "Here, we do the spin wave by using Holstein Primako transformation, which maps spin operators for a system of spin-S moments on a lattice to bosonic creation and annihilation operators as\n",
    "\\begin{equation}\n",
    "S_{i}^{z} = S - \\hat{a}_{i}^{+}\\hat{a}_{i}= S - \\hat{n}_{i}\\\\\n",
    "S_{i}^{+} = \\sqrt{2S-\\hat{n}_{i}}\\hat{a}_{i}\\\\\n",
    "S_{i}^{-} = \\hat{a}_{i}^{+}\\sqrt{2S-\\hat{n}_{i}}\n",
    "\\end{equation}\n",
    "\n",
    "We can use binomial approximation to simplify the above formular.\n",
    "Binomial approximation is\n",
    "\\begin{equation}\n",
    "(1+x)^{\\alpha}\\approx 1 + {\\alpha}x\n",
    "\\end{equation}\n",
    "\n",
    "Therefore, \n",
    "\\begin{equation}\n",
    " \\sqrt{2S-\\hat{n}_{i}} \\approx \\sqrt{2S}{1-\\frac{\\hat{n}_{i}}{4S}} \\\\\n",
    "\\end{equation}\n",
    "\n",
    "So, we can rewrite the above spin Hamiltonian as follow\n",
    "\\begin{equation}\n",
    "H = -J\\sum_{i,j}[{S_{i}^{z}S_{j}^{z} + \\frac{1}{2}(S_{i}^{+}S_{j}^{-} + S_{i}^{-}S_{j}^{+})}] \\approx -J\\sum_{i,j}[{(S-\\hat{n}_{i})(S-\\hat{n}_{j})} + S[(1-\\frac{\\hat{n}_{i}}{4S})\\hat{a}_{i}\\hat{b}_{j}^{+}(1-\\frac{\\hat{n}_{j}}{4S}) + \\hat{a}_{i}^{+}(1-\\frac{\\hat{n}_{i}}{4S})(1-\\frac{\\hat{n}_{i}}{4S})\\hat{b}_{j}]]\\\\\n",
    "\\approx{-\\frac{NqJS^{1}}{2} + JS\\sum_{i,j}{(\\hat{a}_{i}^{+}-\\hat{b}_{j}^{+})(\\hat{a}_{i}-\\hat{b}_{j})} + H_{2} } \n",
    "\\end{equation}\n",
    "Let's rewrite the $H_{1}$ in momentum space:\n",
    "\\begin{equation}\n",
    "H_{1} = -JS\\sum_{i,j}{(\\hat{a}_{i}^{+}\\hat{b}_{j}) + (\\hat{b}_{j}^{+}\\hat{a}_{i})} + qJS\\sum_{i,j}{\\hat{n}_{i} + \\hat{n}_{j}}\\\\\n",
    "H_{1} = -\\frac{JS}{2}\\sum_{k,\\delta}{e^{ik \\cdot {\\delta}}(\\hat{a}_{k}^{+}\\hat{b}_{k})} + {e^{-ik \\cdot {\\delta}}(\\hat{b}_{k}^{+}\\hat{a}_{k})} + qJS\\sum_{k}{\\hat{a}_{k}^{+}\\hat{a}_{k} + \\hat{b}_{k}^{+}\\hat{b}_{k}}  \n",
    "\\end{equation}\n",
    "Then, we can rewrite the $H_{1}$ in pauli matrix form\n",
    "\\begin{equation}\n",
    "H_{1} = \\sum_{k}{\\psi^{*} \\cdot H(k) \\cdot\\psi}\\\\ \n",
    "\\end{equation}\n",
    "where $\\phi^{*} = (\\hat{a}_{k}^{+}, \\hat{b}_{k}^{+})$\\\\\n",
    "and $H(k)$ is\n",
    "\\begin{equation}\n",
    "qJS {\\sigma}_{z} - JS{(\\sigma_{+}\\zeta_{k}+h.c.)}\n",
    "\\end{equation}\n",
    "where \n",
    "\\begin{equation}\n",
    "\\sigma_{\\pm} = \\sigma_{x}\\pm {i\\sigma{y}}, \\zeta_{k} = \\sum_{\\mu}{e^{ik\\delta_{\\mu}}} \n",
    "\\end{equation}\n",
    "For 2D honeycomb lattice, nearest neighbor $\\delta_{\\mu}$ are $\\delta_{1}=(\\hat{x}, \\sqrt{3}\\hat{y})/2$, $\\delta_{2}=(\\hat{x}, -\\sqrt{3}\\hat{y})/2$ and $\\delta_{3}=(-\\hat{x},0)$, \n",
    "respectively. \\\\\n",
    "The eigenvalues are\\\\\n",
    "\\begin{equation}\n",
    "\\epsilon_{\\pm}(k) = 3JS(1\\pm|\\zeta_{k}|) = 3JS(1\\pm \\frac{1}{3} \\sqrt{1+4cos^{2}{\\frac{\\sqrt{3}k_{y}}{2}} + 4{cos{\\frac{\\sqrt{3}k_{y}}{2}} cos{\\frac{3k_{x}}{2}} } }) \n",
    "\\end{equation}"
   ]
  },
  {
   "cell_type": "code",
   "execution_count": 14,
   "id": "fa05ccdd",
   "metadata": {},
   "outputs": [],
   "source": [
    "import matplotlib.pyplot as plt \n",
    "import numpy as np\n",
    "import math"
   ]
  },
  {
   "cell_type": "code",
   "execution_count": 33,
   "id": "f38418d5",
   "metadata": {},
   "outputs": [
    {
     "data": {
      "image/png": "[encoded data removed]",
      "text/plain": [
       "<Figure size 432x288 with 1 Axes>"
      ]
     },
     "metadata": {
      "needs_background": "light"
     },
     "output_type": "display_data"
    }
   ],
   "source": [
    "#from M to Gamma points \n",
    "x1 = np.linspace(-2*np.pi /3, 0)\n",
    "y1_p = 3*(1+(1/3) * (np.sqrt(5+4*np.cos(1.5*x1))))\n",
    "y1_n = 3*(1-(1/3) * (np.sqrt(5+4*np.cos(1.5*x1))))\n",
    "plt.plot(x1, y1_p)\n",
    "plt.plot(x1, y1_n)\n",
    "\n",
    "#from Gamma to K points \n",
    "x2 = np.linspace(0, 2*np.pi /3)\n",
    "y2_p = 3*(1+(1/3) * (np.sqrt(1+4*np.cos(0.5*x2)*np.cos(0.5*x2)+4*np.cos(0.5*x2)*np.cos(1.5*x2))))\n",
    "y2_n = 3*(1-(1/3) * (np.sqrt(1+4*np.cos(0.5*x2)*np.cos(0.5*x2)+4*np.cos(0.5*x2)*np.cos(1.5*x2))))\n",
    "plt.plot(x2, y2_p)\n",
    "plt.plot(x2, y2_n)\n",
    "\n",
    "#from K to M points \n",
    "x3 = np.linspace(2*np.pi /3, 2*np.pi /3 + 2*np.pi/(3*np.sqrt(3)))\n",
    "#y3_p = 3*(1+(1/3) * (np.sqrt(1+4*np.cos(0.5 *(np.sqrt(3))*x3)*np.cos(0.5*np.sqrt(3)*x3)-4*np.cos(0.5*np.sqrt(3)*x3))))\n",
    "#y3_n = 3*(1-(1/3) * (np.sqrt(1+4*np.cos(0.5 *(np.sqrt(3))*x3)*np.cos(0.5*np.sqrt(3)*x3)-4*np.cos(0.5*np.sqrt(3)*x3))))\n",
    "\n",
    "y3_p = 3*(1+(1/3) * (np.sqrt(1+4*np.cos(0.5*x3)*np.cos(0.5*x3)-4*np.cos(0.5*x3))))\n",
    "y3_n = 3*(1-(1/3) * (np.sqrt(1+4*np.cos(0.5*x3)*np.cos(0.5*x3)-4*np.cos(0.5*x3))))\n",
    "plt.plot(x3, y3_p)\n",
    "plt.plot(x3, y3_n)\n",
    "plt.xlim(-2*np.pi /3, 2*np.pi /3 + 2*np.pi/(3*np.sqrt(3)))\n",
    "plt.show()\n",
    "plt.show()"
   ]
  },
  {
   "cell_type": "code",
   "execution_count": null,
   "id": "ba554811",
   "metadata": {},
   "outputs": [],
   "source": []
  }
 ],
 "metadata": {
  "kernelspec": {
   "display_name": "Python 3 (ipykernel)",
   "language": "python",
   "name": "python3"
  },
  "language_info": {
   "codemirror_mode": {
    "name": "ipython",
    "version": 3
   },
   "file_extension": ".py",
   "mimetype": "text/x-python",
   "name": "python",
   "nbconvert_exporter": "python",
   "pygments_lexer": "ipython3",
   "version": "3.9.12"
  }
 },
 "nbformat": 4,
 "nbformat_minor": 5
}
