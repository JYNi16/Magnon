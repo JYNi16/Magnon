{
 "cells": [
  {
   "cell_type": "code",
   "execution_count": 18,
   "id": "fd46a1ef",
   "metadata": {},
   "outputs": [],
   "source": [
    "import numpy as np\n",
    "import matplotlib.pyplot as plt\n",
    "from math import pi"
   ]
  },
  {
   "cell_type": "code",
   "execution_count": 19,
   "id": "c490983e",
   "metadata": {},
   "outputs": [],
   "source": [
    "#NN vectors \n",
    "a1 = 0.5*(np.array([1, np.sqrt(3)]))\n",
    "a2 = 0.5*(np.array([1, -np.sqrt(3)]))\n",
    "a3 = 0.5*(np.array([-1,0]))\n",
    "\n",
    "#NNN vectors\n",
    "d1 = np.array([0, -np.sqrt(3)])\n",
    "d2 = np.array([1.5, 0.5*np.sqrt(3)])\n",
    "d3 = np.array([-1.5, 0.5*np.sqrt(3)])\n",
    "\n",
    "#Recipicoal Lattice \n",
    "G = np.array([0,0])\n",
    "K = np.array([np.sqrt(3), 1])*(2*pi/(3*np.sqrt(3)))\n",
    "M = np.array([np.sqrt(3), 0])*(2*pi/(3*np.sqrt(3)))\n",
    "K2 = np.array([np.sqrt(3), -1])*(2*pi/(3*np.sqrt(3)))\n",
    "\n",
    "npoints = 200\n",
    "#K-path\n",
    "#K点路径G-M\n",
    "kgk = np.linspace(G,K,npoints,endpoint=False)\n",
    "kkm = np.linspace(K,M,npoints,endpoint=False)\n",
    "kmk2 = np.linspace(M,K2,npoints)\n",
    "kk2g = np.linspace(K2,G,npoints)\n",
    "\n",
    "##K点相对距离\n",
    "def Dist(r1,r2):\n",
    "    return np.linalg.norm(r1-r2) \n",
    "lgk=Dist(G,K)\n",
    "lkm=Dist(K,M)\n",
    "lmk2=Dist(M,K2)\n",
    "lk2g=Dist(K2,G)\n",
    "\n",
    "lk = np.linspace(0,1,npoints)\n",
    "xgk = lgk * lk\n",
    "xkm = lkm * lk + xgk[-1]\n",
    "xmk2 = lmk2 * lk + xkm[-1]\n",
    "xk2g = lk2g * lk + xmk2[-1]\n",
    "\n",
    "kpath = np.concatenate((xgk,xkm,xmk2,xk2g),axis=0)\n",
    "Node = [0,xgk[-1],xkm[-1],xmk2[-1],xk2g[-1]]"
   ]
  },
  {
   "cell_type": "code",
   "execution_count": 20,
   "id": "4292d0e7",
   "metadata": {},
   "outputs": [],
   "source": [
    "def kpath(ksym):\n",
    "    k_point_path = []\n",
    "    k_point_dist = []\n",
    "    Node = [0]\n",
    "    lk = np.linspace(0,1,npoints)\n",
    "    test_path = lk\n",
    "    for l in range(len(ksym)-1):\n",
    "        test_point = np.linspace(ksym[l],ksym[l+1],npoints)\n",
    "        k_point_path.append(test_point)\n",
    "        k_dist = Dist(ksym[l],ksym[l+1])\n",
    "        test_path = k_dist * lk + test_path[-1]\n",
    "        k_point_dist.append(test_path)\n",
    "        Node.append(test_path[-1])\n",
    "    \n",
    "    k_path = np.concatenate(tuple(k_point_dist), axis=0)\n",
    "    \n",
    "    return k_point_path, k_path, Node"
   ]
  },
  {
   "cell_type": "code",
   "execution_count": 21,
   "id": "d7759700",
   "metadata": {},
   "outputs": [],
   "source": [
    "#spin exchange parameters\n",
    "J1 = 0.5\n",
    "J2 = 0\n",
    "J3 = 0\n",
    "A = 0.0\n",
    "D2 = 0.1\n",
    "S = 2.5\n",
    "\n",
    "def E(K):\n",
    "    Keff = A * (2*S-1)/S\n",
    "    f = np.exp(1.j*K.dot(a1)) + np.exp(1.j*K.dot(a2)) + np.exp(1.j*K.dot(a3))\n",
    "    f_2 = (f * np.conj(f)).real\n",
    "    E = np.sqrt(round((3*J1-Keff)*(3*J1-Keff),6) - round(J1*J1*f_2,6))\n",
    "    return E\n",
    "\n",
    "def E_DM(K):\n",
    "    Keff = A * (2*S-1)/S\n",
    "    f = np.exp(1.j*K.dot(a1)) + np.exp(1.j*K.dot(a2)) + np.exp(1.j*K.dot(a3))\n",
    "    Dg = D2*2*(np.sin(K.dot(d1)) + np.sin(K.dot(d2)) + np.sin(K.dot(d3)))\n",
    "    f_2 = (f * np.conj(f)).real\n",
    "    E_p = np.sqrt(round((3*J1-Keff)*(3*J1-Keff),6) - round(J1*J1*f_2,6)) + Dg \n",
    "    E_n = np.sqrt(round((3*J1-Keff)*(3*J1-Keff),6) - round(J1*J1*f_2,6)) - Dg \n",
    "    return np.array([E_p, E_n])\n",
    "\n"
   ]
  },
  {
   "cell_type": "code",
   "execution_count": 22,
   "id": "43434bbb",
   "metadata": {},
   "outputs": [
    {
     "data": {
      "image/png": "[encoded data removed]",
      "text/plain": [
       "<Figure size 640x480 with 1 Axes>"
      ]
     },
     "metadata": {},
     "output_type": "display_data"
    }
   ],
   "source": [
    "def plot_band():\n",
    "    k_point_path, k_path, Node = kpath([G,K,M,K2,G])\n",
    "    \n",
    "    E_band = []\n",
    "    for i in range(len(k_point_path)):\n",
    "        test_E = np.array(list(map(E, k_point_path[i])))\n",
    "        E_band.append(test_E)\n",
    "    \n",
    "    eig_1 = np.hstack(tuple(E_band))\n",
    "    plt.plot(k_path, eig_1)\n",
    "    plt.show()\n",
    "\n",
    "plot_band()"
   ]
  },
  {
   "cell_type": "code",
   "execution_count": null,
   "id": "ad98287e",
   "metadata": {},
   "outputs": [],
   "source": [
    "Eig_gk = np.array(list(map(E,kgk)))\n",
    "Eig_km = np.array(list(map(E,kkm)))\n",
    "Eig_mk2 = np.array(list(map(E,kmk2)))\n",
    "Eig_k2g = np.array(list(map(E,kk2g)))\n",
    "eig_1 = np.hstack((Eig_gk,Eig_km,Eig_mk2,Eig_k2g))\n",
    "\n",
    "Eig_gk_dm = np.array(list(map(E_DM,kgk)))\n",
    "Eig_km_dm = np.array(list(map(E_DM,kkm)))\n",
    "Eig_mk2_dm = np.array(list(map(E_DM,kmk2)))\n",
    "Eig_k2g_dm = np.array(list(map(E_DM,kk2g)))\n",
    "eig_1_dm = np.hstack((Eig_gk_dm[:,0],Eig_km_dm[:,0],Eig_mk2_dm[:,0],Eig_k2g_dm[:,0]))\n",
    "eig_2_dm = np.hstack((Eig_gk_dm[:,1],Eig_km_dm[:,1],Eig_mk2_dm[:,1],Eig_k2g_dm[:,1]))\n",
    "\n",
    "plt.plot(kpath, eig_1)\n",
    "# plt.plot(kpath, eig_1_dm)\n",
    "# plt.plot(kpath, eig_2_dm)\n",
    "plt.xticks(Node,[r'$\\Gamma$','K','M',\"K\\'\",r'$\\Gamma$'])\n",
    "plt.show()"
   ]
  }
 ],
 "metadata": {
  "kernelspec": {
   "display_name": "PyG",
   "language": "python",
   "name": "diffusion_map"
  },
  "language_info": {
   "codemirror_mode": {
    "name": "ipython",
    "version": 3
   },
   "file_extension": ".py",
   "mimetype": "text/x-python",
   "name": "python",
   "nbconvert_exporter": "python",
   "pygments_lexer": "ipython3",
   "version": "3.9.13"
  }
 },
 "nbformat": 4,
 "nbformat_minor": 5
}
